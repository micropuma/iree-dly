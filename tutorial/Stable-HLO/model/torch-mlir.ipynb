{
 "cells": [
  {
   "cell_type": "code",
   "execution_count": 1,
   "metadata": {},
   "outputs": [
    {
     "ename": "ModuleNotFoundError",
     "evalue": "No module named 'torch_mlir'",
     "output_type": "error",
     "traceback": [
      "\u001b[0;31m---------------------------------------------------------------------------\u001b[0m",
      "\u001b[0;31mModuleNotFoundError\u001b[0m                       Traceback (most recent call last)",
      "Cell \u001b[0;32mIn[1], line 4\u001b[0m\n\u001b[1;32m      1\u001b[0m \u001b[38;5;28;01mimport\u001b[39;00m \u001b[38;5;21;01mtorch\u001b[39;00m\n\u001b[1;32m      2\u001b[0m \u001b[38;5;28;01mimport\u001b[39;00m \u001b[38;5;21;01mtorchvision\u001b[39;00m\n\u001b[0;32m----> 4\u001b[0m \u001b[38;5;28;01mfrom\u001b[39;00m \u001b[38;5;21;01mtorch_mlir\u001b[39;00m \u001b[38;5;28;01mimport\u001b[39;00m torchscript\n\u001b[1;32m      6\u001b[0m resnet18 \u001b[38;5;241m=\u001b[39m torchvision\u001b[38;5;241m.\u001b[39mmodels\u001b[38;5;241m.\u001b[39mresnet18(pretrained\u001b[38;5;241m=\u001b[39m\u001b[38;5;28;01mTrue\u001b[39;00m)\n\u001b[1;32m      7\u001b[0m resnet18\u001b[38;5;241m.\u001b[39meval()\n",
      "\u001b[0;31mModuleNotFoundError\u001b[0m: No module named 'torch_mlir'"
     ]
    }
   ],
   "source": [
    "import torch\n",
    "import torchvision\n",
    "\n",
    "from torch_mlir import torchscript\n",
    "\n",
    "resnet18 = torchvision.models.resnet18(pretrained=True)\n",
    "resnet18.eval()\n",
    "\n",
    "module = torchscript.compile(resnet18, torch.ones(1, 3, 224, 224), output_type=\"torch\")\n",
    "print(\"TORCH OutputType\\n\", module.operation.get_asm(large_elements_limit=10))\n",
    "\n",
    "# output_type can be: TORCH, TOSA, LINALG_ON_TENSORS, RAW and STABLEHLO.\n",
    "module = torchscript.compile(\n",
    "    resnet18, torch.ones(1, 3, 224, 224), output_type=\"STABLEHLO\"\n",
    ")\n",
    "\n",
    "with open(\"resnet18-stablehlo.mlir\", \"w\") as file:\n",
    "    file.write(module.operation.get_asm(large_elements_limit=10))"
   ]
  }
 ],
 "metadata": {
  "kernelspec": {
   "display_name": "iree",
   "language": "python",
   "name": "python3"
  },
  "language_info": {
   "codemirror_mode": {
    "name": "ipython",
    "version": 3
   },
   "file_extension": ".py",
   "mimetype": "text/x-python",
   "name": "python",
   "nbconvert_exporter": "python",
   "pygments_lexer": "ipython3",
   "version": "3.11.9"
  }
 },
 "nbformat": 4,
 "nbformat_minor": 2
}
