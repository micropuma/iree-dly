{
 "cells": [
  {
   "cell_type": "code",
   "execution_count": 1,
   "metadata": {},
   "outputs": [
    {
     "name": "stdout",
     "output_type": "stream",
     "text": [
      "Requirement already satisfied: tensorflow in /mnt/home/douliyang/mlir-workspace/iree/iree/lib/python3.11/site-packages (2.18.0)\n",
      "Collecting iree-base-compiler\n",
      "  Downloading iree_base_compiler-3.1.0-cp311-cp311-manylinux_2_27_x86_64.manylinux_2_28_x86_64.whl.metadata (1.0 kB)\n",
      "Collecting iree-base-runtime\n",
      "  Downloading iree_base_runtime-3.1.0-cp311-cp311-manylinux_2_28_x86_64.whl.metadata (1.0 kB)\n",
      "Requirement already satisfied: iree-tools-tf in /mnt/home/douliyang/mlir-workspace/iree/iree/lib/python3.11/site-packages (0.1.dev1)\n",
      "Requirement already satisfied: absl-py>=1.0.0 in /mnt/home/douliyang/mlir-workspace/iree/iree/lib/python3.11/site-packages (from tensorflow) (2.1.0)\n",
      "Requirement already satisfied: astunparse>=1.6.0 in /mnt/home/douliyang/mlir-workspace/iree/iree/lib/python3.11/site-packages (from tensorflow) (1.6.3)\n",
      "Requirement already satisfied: flatbuffers>=24.3.25 in /mnt/home/douliyang/mlir-workspace/iree/iree/lib/python3.11/site-packages (from tensorflow) (24.3.25)\n",
      "Requirement already satisfied: gast!=0.5.0,!=0.5.1,!=0.5.2,>=0.2.1 in /mnt/home/douliyang/mlir-workspace/iree/iree/lib/python3.11/site-packages (from tensorflow) (0.6.0)\n",
      "Requirement already satisfied: google-pasta>=0.1.1 in /mnt/home/douliyang/mlir-workspace/iree/iree/lib/python3.11/site-packages (from tensorflow) (0.2.0)\n",
      "Requirement already satisfied: libclang>=13.0.0 in /mnt/home/douliyang/mlir-workspace/iree/iree/lib/python3.11/site-packages (from tensorflow) (18.1.1)\n",
      "Requirement already satisfied: opt-einsum>=2.3.2 in /mnt/home/douliyang/mlir-workspace/iree/iree/lib/python3.11/site-packages (from tensorflow) (3.4.0)\n",
      "Requirement already satisfied: packaging in /mnt/home/douliyang/mlir-workspace/iree/iree/lib/python3.11/site-packages (from tensorflow) (24.2)\n",
      "Requirement already satisfied: protobuf!=4.21.0,!=4.21.1,!=4.21.2,!=4.21.3,!=4.21.4,!=4.21.5,<6.0.0dev,>=3.20.3 in /mnt/home/douliyang/mlir-workspace/iree/iree/lib/python3.11/site-packages (from tensorflow) (3.20.3)\n",
      "Requirement already satisfied: requests<3,>=2.21.0 in /mnt/home/douliyang/mlir-workspace/iree/iree/lib/python3.11/site-packages (from tensorflow) (2.32.3)\n",
      "Requirement already satisfied: setuptools in /mnt/home/douliyang/mlir-workspace/iree/iree/lib/python3.11/site-packages (from tensorflow) (75.3.0)\n",
      "Requirement already satisfied: six>=1.12.0 in /mnt/home/douliyang/mlir-workspace/iree/iree/lib/python3.11/site-packages (from tensorflow) (1.16.0)\n",
      "Requirement already satisfied: termcolor>=1.1.0 in /mnt/home/douliyang/mlir-workspace/iree/iree/lib/python3.11/site-packages (from tensorflow) (2.5.0)\n",
      "Requirement already satisfied: typing-extensions>=3.6.6 in /mnt/home/douliyang/mlir-workspace/iree/iree/lib/python3.11/site-packages (from tensorflow) (4.12.2)\n",
      "Requirement already satisfied: wrapt>=1.11.0 in /mnt/home/douliyang/mlir-workspace/iree/iree/lib/python3.11/site-packages (from tensorflow) (1.17.0)\n",
      "Requirement already satisfied: grpcio<2.0,>=1.24.3 in /mnt/home/douliyang/mlir-workspace/iree/iree/lib/python3.11/site-packages (from tensorflow) (1.68.1)\n",
      "Requirement already satisfied: tensorboard<2.19,>=2.18 in /mnt/home/douliyang/mlir-workspace/iree/iree/lib/python3.11/site-packages (from tensorflow) (2.18.0)\n",
      "Requirement already satisfied: keras>=3.5.0 in /mnt/home/douliyang/mlir-workspace/iree/iree/lib/python3.11/site-packages (from tensorflow) (3.7.0)\n",
      "Requirement already satisfied: numpy<2.1.0,>=1.26.0 in /mnt/home/douliyang/mlir-workspace/iree/iree/lib/python3.11/site-packages (from tensorflow) (1.26.4)\n",
      "Requirement already satisfied: h5py>=3.11.0 in /mnt/home/douliyang/mlir-workspace/iree/iree/lib/python3.11/site-packages (from tensorflow) (3.12.1)\n",
      "Requirement already satisfied: ml-dtypes<0.5.0,>=0.4.0 in /mnt/home/douliyang/mlir-workspace/iree/iree/lib/python3.11/site-packages (from tensorflow) (0.4.1)\n",
      "Requirement already satisfied: tensorflow-io-gcs-filesystem>=0.23.1 in /mnt/home/douliyang/mlir-workspace/iree/iree/lib/python3.11/site-packages (from tensorflow) (0.37.1)\n",
      "Requirement already satisfied: sympy in /mnt/home/douliyang/mlir-workspace/iree/iree/lib/python3.11/site-packages (from iree-base-compiler) (1.13.1)\n",
      "Requirement already satisfied: wheel<1.0,>=0.23.0 in /mnt/home/douliyang/mlir-workspace/iree/iree/lib/python3.11/site-packages (from astunparse>=1.6.0->tensorflow) (0.44.0)\n",
      "Requirement already satisfied: rich in /mnt/home/douliyang/mlir-workspace/iree/iree/lib/python3.11/site-packages (from keras>=3.5.0->tensorflow) (13.9.4)\n",
      "Requirement already satisfied: namex in /mnt/home/douliyang/mlir-workspace/iree/iree/lib/python3.11/site-packages (from keras>=3.5.0->tensorflow) (0.0.8)\n",
      "Requirement already satisfied: optree in /mnt/home/douliyang/mlir-workspace/iree/iree/lib/python3.11/site-packages (from keras>=3.5.0->tensorflow) (0.13.1)\n",
      "Requirement already satisfied: charset-normalizer<4,>=2 in /mnt/home/douliyang/mlir-workspace/iree/iree/lib/python3.11/site-packages (from requests<3,>=2.21.0->tensorflow) (3.4.0)\n",
      "Requirement already satisfied: idna<4,>=2.5 in /mnt/home/douliyang/mlir-workspace/iree/iree/lib/python3.11/site-packages (from requests<3,>=2.21.0->tensorflow) (3.10)\n",
      "Requirement already satisfied: urllib3<3,>=1.21.1 in /mnt/home/douliyang/mlir-workspace/iree/iree/lib/python3.11/site-packages (from requests<3,>=2.21.0->tensorflow) (2.2.3)\n",
      "Requirement already satisfied: certifi>=2017.4.17 in /mnt/home/douliyang/mlir-workspace/iree/iree/lib/python3.11/site-packages (from requests<3,>=2.21.0->tensorflow) (2024.8.30)\n",
      "Requirement already satisfied: markdown>=2.6.8 in /mnt/home/douliyang/mlir-workspace/iree/iree/lib/python3.11/site-packages (from tensorboard<2.19,>=2.18->tensorflow) (3.7)\n",
      "Requirement already satisfied: tensorboard-data-server<0.8.0,>=0.7.0 in /mnt/home/douliyang/mlir-workspace/iree/iree/lib/python3.11/site-packages (from tensorboard<2.19,>=2.18->tensorflow) (0.7.2)\n",
      "Requirement already satisfied: werkzeug>=1.0.1 in /mnt/home/douliyang/mlir-workspace/iree/iree/lib/python3.11/site-packages (from tensorboard<2.19,>=2.18->tensorflow) (3.1.3)\n",
      "Requirement already satisfied: mpmath<1.4,>=1.1.0 in /mnt/home/douliyang/mlir-workspace/iree/iree/lib/python3.11/site-packages (from sympy->iree-base-compiler) (1.3.0)\n",
      "Requirement already satisfied: MarkupSafe>=2.1.1 in /mnt/home/douliyang/mlir-workspace/iree/iree/lib/python3.11/site-packages (from werkzeug>=1.0.1->tensorboard<2.19,>=2.18->tensorflow) (3.0.2)\n",
      "Requirement already satisfied: markdown-it-py>=2.2.0 in /mnt/home/douliyang/mlir-workspace/iree/iree/lib/python3.11/site-packages (from rich->keras>=3.5.0->tensorflow) (3.0.0)\n",
      "Requirement already satisfied: pygments<3.0.0,>=2.13.0 in /mnt/home/douliyang/mlir-workspace/iree/iree/lib/python3.11/site-packages (from rich->keras>=3.5.0->tensorflow) (2.18.0)\n",
      "Requirement already satisfied: mdurl~=0.1 in /mnt/home/douliyang/mlir-workspace/iree/iree/lib/python3.11/site-packages (from markdown-it-py>=2.2.0->rich->keras>=3.5.0->tensorflow) (0.1.2)\n",
      "Downloading iree_base_compiler-3.1.0-cp311-cp311-manylinux_2_27_x86_64.manylinux_2_28_x86_64.whl (71.2 MB)\n",
      "\u001b[2K   \u001b[90m━━━━━━━━━━━━━━━━━━━━━━━━━━━━━━━━━━━━━━━━\u001b[0m \u001b[32m71.2/71.2 MB\u001b[0m \u001b[31m702.1 kB/s\u001b[0m eta \u001b[36m0:00:00\u001b[0m00:01\u001b[0m00:03\u001b[0m\n",
      "\u001b[?25hDownloading iree_base_runtime-3.1.0-cp311-cp311-manylinux_2_28_x86_64.whl (8.2 MB)\n",
      "\u001b[2K   \u001b[90m━━━━━━━━━━━━━━━━━━━━━━━━━━━━━━━━━━━━━━━━\u001b[0m \u001b[32m8.2/8.2 MB\u001b[0m \u001b[31m608.8 kB/s\u001b[0m eta \u001b[36m0:00:00\u001b[0ma \u001b[36m0:00:01\u001b[0m\n",
      "\u001b[?25hInstalling collected packages: iree-base-runtime, iree-base-compiler\n",
      "Successfully installed iree-base-compiler-3.1.0 iree-base-runtime-3.1.0\n",
      "\n",
      "\u001b[1m[\u001b[0m\u001b[34;49mnotice\u001b[0m\u001b[1;39;49m]\u001b[0m\u001b[39;49m A new release of pip is available: \u001b[0m\u001b[31;49m24.3.1\u001b[0m\u001b[39;49m -> \u001b[0m\u001b[32;49m25.0\u001b[0m\n",
      "\u001b[1m[\u001b[0m\u001b[34;49mnotice\u001b[0m\u001b[1;39;49m]\u001b[0m\u001b[39;49m To update, run: \u001b[0m\u001b[32;49mpip install --upgrade pip\u001b[0m\n"
     ]
    }
   ],
   "source": [
    "!pip install tensorflow iree-base-compiler iree-base-runtime iree-tools-tf"
   ]
  },
  {
   "cell_type": "code",
   "execution_count": 2,
   "metadata": {},
   "outputs": [
    {
     "name": "stdout",
     "output_type": "stream",
     "text": [
      "iree-base-compiler==3.1.0\n",
      "iree-base-runtime==3.1.0\n",
      "iree-tools-tf @ file:///mnt/home/douliyang/mlir-workspace/iree/integrations/tensorflow/python_projects/iree_tf\n",
      "iree-tools-tflite @ file:///mnt/home/douliyang/mlir-workspace/iree/integrations/tensorflow/python_projects/iree_tflite\n",
      "platformdirs==4.3.6\n",
      "tensorflow==2.18.0\n",
      "tensorflow-io-gcs-filesystem==0.37.1\n",
      "tensorflow_cpu==2.18.0\n"
     ]
    }
   ],
   "source": [
    "!pip freeze | grep -E 'iree|tensorflow|tf'"
   ]
  },
  {
   "cell_type": "code",
   "execution_count": 12,
   "metadata": {},
   "outputs": [
    {
     "name": "stdout",
     "output_type": "stream",
     "text": [
      "  % Total    % Received % Xferd  Average Speed   Time    Time     Time  Current\n",
      "                                 Dload  Upload   Total   Spent    Left  Speed\n",
      "  0     0    0     0    0     0      0      0 --:--:-- --:--:-- --:--:--     0\n",
      "100 7551k  100 7551k    0     0   146k      0  0:00:51  0:00:51 --:--:-- 94154\n",
      "total 8.5M\n",
      "drwxrwxr-x 3 douliyang douliyang 4.0K Feb  5 22:33 .\n",
      "drwxrwxr-x 4 douliyang douliyang 4.0K Feb  5 22:32 ..\n",
      "-rw-rw-r-- 1 douliyang douliyang 7.4M Feb  5 22:33 mobilenetv3.tar.gz\n",
      "-rwx------ 1 douliyang douliyang 1.1M Feb 24  2023 saved_model.pb\n",
      "drwxr-x--x 2 douliyang douliyang 4.0K Feb 24  2023 variables\n"
     ]
    }
   ],
   "source": [
    "!mkdir models3\n",
    "!cd models3 && curl -L -o mobilenetv3.tar.gz https://www.kaggle.com/models/google/mobilenet-v3/TensorFlow2/small-075-224-classification/1/download && tar xf mobilenetv3.tar.gz\n",
    "!ls -lah models3/"
   ]
  },
  {
   "cell_type": "code",
   "execution_count": 13,
   "metadata": {},
   "outputs": [
    {
     "name": "stdout",
     "output_type": "stream",
     "text": [
      "['serving_default']\n"
     ]
    }
   ],
   "source": [
    "import tensorflow.compat.v2 as tf\n",
    "model = tf.saved_model.load('./models3/')\n",
    "print(list(model.signatures.keys()))"
   ]
  },
  {
   "cell_type": "code",
   "execution_count": 14,
   "metadata": {},
   "outputs": [
    {
     "name": "stdout",
     "output_type": "stream",
     "text": [
      "2025-02-05 22:34:35.421339: I tensorflow/core/util/port.cc:153] oneDNN custom operations are on. You may see slightly different numerical results due to floating-point round-off errors from different computation orders. To turn them off, set the environment variable `TF_ENABLE_ONEDNN_OPTS=0`.\n",
      "2025-02-05 22:34:35.472991: I tensorflow/core/platform/cpu_feature_guard.cc:210] This TensorFlow binary is optimized to use available CPU instructions in performance-critical operations.\n",
      "To enable the following instructions: AVX2 AVX512F AVX512_VNNI FMA, in other operations, rebuild TensorFlow with the appropriate compiler flags.\n",
      "2025-02-05 22:34:38.008643: I tensorflow/cc/saved_model/reader.cc:83] Reading SavedModel from: ./models3/\n",
      "2025-02-05 22:34:38.017840: I tensorflow/cc/saved_model/reader.cc:52] Reading meta graph with tags { serve }\n",
      "2025-02-05 22:34:38.017868: I tensorflow/cc/saved_model/reader.cc:147] Reading SavedModel debug info (if present) from: ./models3/\n",
      "WARNING: All log messages before absl::InitializeLog() is called are written to STDERR\n",
      "I0000 00:00:1738766078.089587 3512323 mlir_graph_optimization_pass.cc:401] MLIR V1 optimization pass is not enabled\n",
      "2025-02-05 22:34:38.105562: I tensorflow/cc/saved_model/loader.cc:236] Restoring SavedModel bundle.\n",
      "2025-02-05 22:34:38.444540: I tensorflow/cc/saved_model/loader.cc:220] Running initialization op on SavedModel bundle at path: ./models3/\n",
      "2025-02-05 22:34:38.516322: I tensorflow/cc/saved_model/loader.cc:466] SavedModel load for tags { serve }; Status: success: OK. Took 507693 microseconds.\n",
      "2025-02-05 22:34:38.574231: I tensorflow/compiler/mlir/tensorflow/utils/dump_mlir_util.cc:268] disabling MLIR crash reproducer, set env var `MLIR_CRASH_REPRODUCER_DIRECTORY` to enable.\n"
     ]
    }
   ],
   "source": [
    "!iree-import-tf \\\n",
    "  --tf-import-type=savedmodel_v1 \\\n",
    "  --tf-savedmodel-exported-names=serving_default \\\n",
    "  ./models3/ -o iree_input.mlir"
   ]
  },
  {
   "cell_type": "code",
   "execution_count": 15,
   "metadata": {},
   "outputs": [
    {
     "name": "stdout",
     "output_type": "stream",
     "text": [
      "/home/douliyang/large/mlir-workspace/iree/iree/bin/iree-ir-tool\n"
     ]
    }
   ],
   "source": [
    "!which iree-ir-tool\n",
    "!iree-ir-tool cp iree_input.mlir -o iree_input_text.mlir"
   ]
  },
  {
   "cell_type": "code",
   "execution_count": 18,
   "metadata": {},
   "outputs": [
    {
     "name": "stdout",
     "output_type": "stream",
     "text": [
      "    %594 = stablehlo.dynamic_reshape %593, %from_elements_30 : (tensor<?xf32>, tensor<2xindex>) -> tensor<?x1xf32>\n",
      "    %595 = shape.shape_of %592 : tensor<?x1001xf32> -> tensor<2xindex>\n",
      "    %596 = shape.cstr_broadcastable %595, %from_elements_30 : tensor<2xindex>, tensor<2xindex>\n",
      "    %597 = shape.assuming %596 -> (tensor<?x1001xf32>) {\n",
      "      %602 = shape.shape_of %592 : tensor<?x1001xf32> -> tensor<2xindex>\n",
      "      %603 = shape.broadcast %602, %from_elements_30 : tensor<2xindex>, tensor<2xindex> -> tensor<2xindex>\n",
      "      %604 = stablehlo.dynamic_broadcast_in_dim %592, %603, dims = [0, 1] : (tensor<?x1001xf32>, tensor<2xindex>) -> tensor<?x1001xf32>\n",
      "      %605 = stablehlo.dynamic_broadcast_in_dim %594, %603, dims = [0, 1] : (tensor<?x1xf32>, tensor<2xindex>) -> tensor<?x1001xf32>\n",
      "      %606 = stablehlo.subtract %604, %605 : tensor<?x1001xf32>\n",
      "      shape.assuming_yield %606 : tensor<?x1001xf32>\n",
      "    }\n",
      "    %598 = stablehlo.exponential %597 : tensor<?x1001xf32>\n",
      "    %599 = stablehlo.reduce(%598 init: %cst_6) applies stablehlo.add across dimensions = [1] : (tensor<?x1001xf32>, tensor<f32>) -> tensor<?xf32>\n",
      "    %dim_31 = tensor.dim %599, %c0 : tensor<?xf32>\n",
      "    %from_elements_32 = tensor.from_elements %dim_31, %c1 : tensor<2xindex>\n",
      "    %600 = shape.shape_of %598 : tensor<?x1001xf32> -> tensor<2xindex>\n",
      "    %601 = shape.cstr_broadcastable %600, %from_elements_32 : tensor<2xindex>, tensor<2xindex>\n",
      "    return %591 : tensor<?x1001xf32>\n",
      "  }\n",
      "}"
     ]
    }
   ],
   "source": [
    "!tail -n 20 iree_input_text.mlir"
   ]
  },
  {
   "cell_type": "code",
   "execution_count": 19,
   "metadata": {},
   "outputs": [
    {
     "name": "stdout",
     "output_type": "stream",
     "text": [
      "\u001b[1m-:269:14: \u001b[0m\u001b[0;1;31merror: \u001b[0m\u001b[1mfailed to legalize operation 'stablehlo.dynamic_broadcast_in_dim' that was explicitly marked illegal\n",
      "\u001b[0m\u001b[1m-:269:14: \u001b[0m\u001b[0;1;30mnote: \u001b[0m\u001b[1msee current operation: %2591 = \"stablehlo.dynamic_broadcast_in_dim\"(%176, %2590) <{broadcast_dimensions = array<i64: 0, 1, 2, 3>}> : (tensor<?x112x112x16xf32>, tensor<4xindex>) -> tensor<?x112x112x16xf32>\n",
      "\u001b[0m"
     ]
    }
   ],
   "source": [
    "!iree-compile --iree-hal-target-backends=cuda --iree-cuda-target=sm_86 iree_input.mlir -o mobilenet_spirv.vmfb"
   ]
  },
  {
   "cell_type": "code",
   "execution_count": null,
   "metadata": {},
   "outputs": [],
   "source": []
  }
 ],
 "metadata": {
  "kernelspec": {
   "display_name": "iree",
   "language": "python",
   "name": "python3"
  },
  "language_info": {
   "codemirror_mode": {
    "name": "ipython",
    "version": 3
   },
   "file_extension": ".py",
   "mimetype": "text/x-python",
   "name": "python",
   "nbconvert_exporter": "python",
   "pygments_lexer": "ipython3",
   "version": "3.11.9"
  }
 },
 "nbformat": 4,
 "nbformat_minor": 2
}
