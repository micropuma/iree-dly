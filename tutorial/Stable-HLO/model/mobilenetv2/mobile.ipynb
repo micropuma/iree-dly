{
 "cells": [
  {
   "cell_type": "code",
   "execution_count": 5,
   "metadata": {},
   "outputs": [],
   "source": [
    "!export LD_PRELOAD=/usr/lib/x86_64-linux-gnu/libstdc++.so.6"
   ]
  },
  {
   "cell_type": "code",
   "execution_count": 1,
   "metadata": {},
   "outputs": [
    {
     "name": "stdout",
     "output_type": "stream",
     "text": [
      "Requirement already satisfied: iree-base-runtime in /mnt/home/douliyang/mlir-workspace/iree/iree/lib/python3.11/site-packages (3.1.0)\n",
      "Requirement already satisfied: numpy in /mnt/home/douliyang/mlir-workspace/iree/iree/lib/python3.11/site-packages (from iree-base-runtime) (1.26.4)\n",
      "\n",
      "\u001b[1m[\u001b[0m\u001b[34;49mnotice\u001b[0m\u001b[1;39;49m]\u001b[0m\u001b[39;49m A new release of pip is available: \u001b[0m\u001b[31;49m24.3.1\u001b[0m\u001b[39;49m -> \u001b[0m\u001b[32;49m25.0\u001b[0m\n",
      "\u001b[1m[\u001b[0m\u001b[34;49mnotice\u001b[0m\u001b[1;39;49m]\u001b[0m\u001b[39;49m To update, run: \u001b[0m\u001b[32;49mpip install --upgrade pip\u001b[0m\n"
     ]
    }
   ],
   "source": [
    "!pip install iree-base-runtime"
   ]
  },
  {
   "cell_type": "code",
   "execution_count": null,
   "metadata": {},
   "outputs": [
    {
     "name": "stdout",
     "output_type": "stream",
     "text": [
      "--2025-02-07 21:20:32--  https://github.com/onnx/models/raw/refs/heads/main/validated/vision/classification/mobilenet/model/mobilenetv2-10.onnx\n",
      "Resolving github.com (github.com)... 20.205.243.166\n",
      "Connecting to github.com (github.com)|20.205.243.166|:443... connected.\n",
      "HTTP request sent, awaiting response... 302 Found\n",
      "Location: https://media.githubusercontent.com/media/onnx/models/refs/heads/main/validated/vision/classification/mobilenet/model/mobilenetv2-10.onnx [following]\n",
      "--2025-02-07 21:20:32--  https://media.githubusercontent.com/media/onnx/models/refs/heads/main/validated/vision/classification/mobilenet/model/mobilenetv2-10.onnx\n",
      "Resolving media.githubusercontent.com (media.githubusercontent.com)... 185.199.109.133, 185.199.111.133, 185.199.108.133, ...\n",
      "Connecting to media.githubusercontent.com (media.githubusercontent.com)|185.199.109.133|:443... connected.\n",
      "HTTP request sent, awaiting response... 200 OK\n",
      "Length: 13963115 (13M) [application/octet-stream]\n",
      "Saving to: ‘mobilenetv2-10.onnx’\n",
      "\n",
      "mobilenetv2-10.onnx 100%[===================>]  13.32M  13.1KB/s    in 18m 25s \n",
      "\n",
      "2025-02-07 21:38:59 (12.3 KB/s) - ‘mobilenetv2-10.onnx’ saved [13963115/13963115]\n",
      "\n",
      "Requirement already satisfied: iree-base-compiler[onnx] in /mnt/home/douliyang/mlir-workspace/iree/iree/lib/python3.11/site-packages (3.1.0)\n",
      "Requirement already satisfied: numpy in /mnt/home/douliyang/mlir-workspace/iree/iree/lib/python3.11/site-packages (from iree-base-compiler[onnx]) (1.26.4)\n",
      "Requirement already satisfied: sympy in /mnt/home/douliyang/mlir-workspace/iree/iree/lib/python3.11/site-packages (from iree-base-compiler[onnx]) (1.13.1)\n",
      "Collecting onnx>=1.16.0 (from iree-base-compiler[onnx])\n",
      "  Using cached onnx-1.17.0-cp311-cp311-manylinux_2_17_x86_64.manylinux2014_x86_64.whl.metadata (16 kB)\n",
      "Requirement already satisfied: protobuf>=3.20.2 in /mnt/home/douliyang/mlir-workspace/iree/iree/lib/python3.11/site-packages (from onnx>=1.16.0->iree-base-compiler[onnx]) (3.20.3)\n",
      "Requirement already satisfied: mpmath<1.4,>=1.1.0 in /mnt/home/douliyang/mlir-workspace/iree/iree/lib/python3.11/site-packages (from sympy->iree-base-compiler[onnx]) (1.3.0)\n",
      "Using cached onnx-1.17.0-cp311-cp311-manylinux_2_17_x86_64.manylinux2014_x86_64.whl (16.0 MB)\n",
      "Installing collected packages: onnx\n",
      "Successfully installed onnx-1.17.0\n",
      "\n",
      "\u001b[1m[\u001b[0m\u001b[34;49mnotice\u001b[0m\u001b[1;39;49m]\u001b[0m\u001b[39;49m A new release of pip is available: \u001b[0m\u001b[31;49m24.3.1\u001b[0m\u001b[39;49m -> \u001b[0m\u001b[32;49m25.0\u001b[0m\n",
      "\u001b[1m[\u001b[0m\u001b[34;49mnotice\u001b[0m\u001b[1;39;49m]\u001b[0m\u001b[39;49m To update, run: \u001b[0m\u001b[32;49mpip install --upgrade pip\u001b[0m\n",
      "Traceback (most recent call last):\n",
      "  File \"/home/douliyang/large/mlir-workspace/iree/iree/bin/iree-import-onnx\", line 5, in <module>\n",
      "    from iree.compiler.tools.import_onnx.__main__ import _cli_main\n",
      "  File \"/home/douliyang/large/mlir-workspace/iree/build/compiler/bindings/python/iree/compiler/tools/import_onnx/__main__.py\", line 24, in <module>\n",
      "    from .importer_externalization_overrides import *\n",
      "  File \"/home/douliyang/large/mlir-workspace/iree/build/compiler/bindings/python/iree/compiler/tools/import_onnx/importer_externalization_overrides.py\", line 12, in <module>\n",
      "    from ...dialects import util\n",
      "  File \"/home/douliyang/large/mlir-workspace/iree/build/compiler/bindings/python/iree/compiler/dialects/util.py\", line 7, in <module>\n",
      "    from ._util_ops_gen import *\n",
      "  File \"/home/douliyang/large/mlir-workspace/iree/build/compiler/bindings/python/iree/compiler/dialects/_util_ops_gen.py\", line 4, in <module>\n",
      "    from ._ods_common import _cext as _ods_cext\n",
      "  File \"/home/douliyang/large/mlir-workspace/iree/build/compiler/bindings/python/iree/compiler/dialects/_ods_common.py\", line 14, in <module>\n",
      "    from .._mlir_libs import _mlir as _cext\n",
      "  File \"/home/douliyang/large/mlir-workspace/iree/build/compiler/bindings/python/iree/compiler/_mlir_libs/__init__.py\", line 180, in <module>\n",
      "    _site_initialize()\n",
      "  File \"/home/douliyang/large/mlir-workspace/iree/build/compiler/bindings/python/iree/compiler/_mlir_libs/__init__.py\", line 78, in _site_initialize\n",
      "    from ._mlir import ir\n",
      "ImportError: /opt/anaconda3/bin/../lib/libstdc++.so.6: version `GLIBCXX_3.4.30' not found (required by /home/douliyang/large/mlir-workspace/iree/build/compiler/bindings/python/iree/compiler/_mlir_libs/_mlir.cpython-311-x86_64-linux-gnu.so)\n"
     ]
    }
   ],
   "source": [
    "# Download the model you want to compile and run.\n",
    "!wget https://github.com/onnx/models/raw/refs/heads/main/validated/vision/classification/mobilenet/model/mobilenetv2-10.onnx\n",
    "\n",
    "# Import to MLIR using IREE's ONNX importer.\n",
    "!pip install iree-base-compiler[onnx]"
   ]
  },
  {
   "cell_type": "code",
   "execution_count": 8,
   "metadata": {},
   "outputs": [],
   "source": [
    "import os\n",
    "os.environ['LD_PRELOAD'] = '/usr/lib/x86_64-linux-gnu/libstdc++.so.6'\n",
    "\n",
    "!iree-import-onnx mobilenetv2-10.onnx --opset-version 17 -o mobilenetv2.mlir"
   ]
  },
  {
   "cell_type": "code",
   "execution_count": 11,
   "metadata": {},
   "outputs": [
    {
     "name": "stdout",
     "output_type": "stream",
     "text": [
      "module {\n",
      "  func.func @\"torch-jit-export\"(%arg0: !torch.vtensor<[?,3,224,224],f32>) -> !torch.vtensor<[?,1000],f32> attributes {torch.onnx_meta.ir_version = 6 : si64, torch.onnx_meta.opset_version = 17 : si64, torch.onnx_meta.producer_name = \"pytorch\", torch.onnx_meta.producer_version = \"1.8\"} {\n",
      "    %0 = torch.operator \"onnx.Constant\"() {torch.onnx.value = dense_resource<_475> : tensor<32x3x3x3xf32>} : () -> !torch.vtensor<[32,3,3,3],f32> \n"
     ]
    }
   ],
   "source": [
    "!head -n 3 mobilenetv2.mlir"
   ]
  },
  {
   "cell_type": "code",
   "execution_count": 10,
   "metadata": {},
   "outputs": [],
   "source": [
    "!iree-compile \\\n",
    "    --iree-hal-target-backends=cuda \\\n",
    "    --iree-cuda-target=sm_86 \\\n",
    "    mobilenetv2.mlir -o mobilenet_cpu.vmfb"
   ]
  },
  {
   "cell_type": "code",
   "execution_count": 14,
   "metadata": {},
   "outputs": [
    {
     "name": "stdout",
     "output_type": "stream",
     "text": [
      "EXEC @torch-jit-export\n",
      "result[0]: hal.buffer_view\n",
      "1x1000xf32=[-4.54831 -8.24082 -2.19512 -0.607162 3.01811 2.2795 5.93878 -4.63611 -8.55423 -7.0313 -5.72422 -13.0843 -3.7323 -10.1492 -6.61326 -2.82114 -4.72417 -7.41983 -5.72615 -2.07717 -14.7411 -8.16984 -12.3777 -8.10809 -4.15393 -6.72145 -8.81415 -9.66889 -6.56354 -6.89167 -5.41167 -2.54415 1.90022 6.92701 6.78602 3.81411 4.48483 2.02717 -4.41525 -0.560704 -7.91978 -1.68703 -6.18004 -1.44641 -3.03691 0.652582 -6.68704 -7.32123 -7.23366 -8.32794 -2.4296 -7.09273 -0.798859 -3.02565 -3.67178 -3.66175 8.57692 -3.06189 -2.77678 -1.11859 -0.91623 4.8476 1.67301 3.86992 -7.21037 -1.28333 0.629251 -2.0707 -1.48169 -2.40855 -5.74169 2.41665 -3.04453 -2.30439 -5.12917 3.54654 6.30047 5.01499 1.57146 -5.38264 -13.8226 -4.57917 -5.10911 -4.07702 -13.281 3.7595 -4.19539 -3.61092 -0.711851 -1.47967 -8.88214 -1.92266 -3.45899 -1.75495 1.49693 3.88671 -2.84268 -7.44225 -2.31068 -5.51414 -10.6048 -11.8567 -6.41718 0.605824 -3.76109 0.966555 5.84405 4.25727 -5.19927 -9.5013 -8.02734 -3.73308 6.20146 -3.66676 -6.98471 -4.42479 -9.57218 4.55643 3.68356 1.36278 0.0339598 -3.62743 0.268376 -5.62401 3.55898 -1.46356 -7.62273 -11.9374 -12.3347 -1.57961 -6.52423 -10.7144 -4.64161 -11.6289 -5.85938 -5.1218 -15.4654 -13.1048 -4.54165 -2.16022 -7.40085 -10.8766 -10.2267 -13.6547 -5.24901 -4.17551 -10.3846 -8.91883 -3.29969 -4.1455 3.17993 7.82773 16.542 6.31497 17.271 13.8815 18.1975 7.17512 10.3525 2.48917 0.235229 9.77902 12.6873 8.02841 8.9781 7.07715 8.63872 8.2682 4.88935 3.18409 2.33011 4.06367 3.25256 4.86683 3.78346 3.66739 0.44865 0.810951 5.95141 8.82392 10.8898 4.12876 13.3893 5.59343 10.1487 4.9468 1.50664 11.7312 11.0855 7.59588 11.9435 7.42528 9.93691 5.55115 11.7171 14.9922 9.16832 9.01768 12.445 6.20833 2.20697 8.86837 12.3052 7.78299 8.14163 0.50118 -4.48353 4.47512 6.13954 0.200477 5.20512 2.76456 8.74744 5.98457 9.39845 6.5743 9.98214 8.20937 8.78518 12.4932 9.49402 -1.51454 2.31217 3.61965 -0.828735 7.23732 3.64133 0.72986 1.07888 -0.0892056 -0.404252 2.37808 0.111696 4.02163 11.563 0.701104 2.38567 6.80169 15.8995 14.0631 10.8086 12.4462 20.3236 11.2353 3.50063 21.7549 4.83349 10.4751 0.719535 -1.26836 3.70893 10.5512 17.446 7.56125 21.4137 3.3191 4.81879 2.33643 -1.56138 3.87754 7.29764 2.85456 24.9323 2.31426 8.98094 5.61477 4.29548 -0.839157 1.17593 0.353577 1.29421 2.68856 5.13482 0.316709 -3.12323 -8.81013 -7.84224 3.46946 0.726939 -1.02256 4.29051 2.48156 -0.559749 6.9665 6.5295 0.745744 -6.22336 4.4765 -6.82116 -7.56545 -1.40448 -5.23825 -0.0599863 -4.3911 -7.28894 -9.76571 -1.61287 -4.68096 -4.31094 2.64092 -6.1553 -1.03559 -6.39245 1.41644 1.26353 -5.7781 3.77129 -5.44704 -4.153 2.66189 -4.73317 -7.28335 -7.66075 -3.1066 2.24827 -6.81712 -4.03168 -3.0735 -12.2937 2.06426 -7.66551 -0.0186119 0.373043 -0.420414 -0.193465 -5.26882 -1.9807 0.420558 -5.81233 -7.14255 12.3523 11.5481 5.99983 3.25373 2.04478 2.52343 4.45933 0.525493 12.4308 -5.96852 -6.08985 2.00556 -4.14199 -5.50849 -8.58 -3.97473 -10.5275 -9.06164 -3.14764 -5.25278 -8.08972 -11.8316 -8.92837 -3.21215 -6.7318 -4.71976 9.13743 3.78468 10.386 8.9254 -3.32136 0.872645 7.81574 0.30379 2.38622 0.235737 -2.97846 1.31182 4.33491 2.4421 0.373841 3.54439 -2.03551 0.499327 -2.85987 -1.21502 -10.8444 5.26107 7.73212 3.50772 6.11647 0.105976 -0.291833 -2.23327 0.452287 -4.58276 -10.0134 1.22903 -1.66789 -1.64378 -1.92812 1.83287 -12.0247 -10.2515 0.147272 -1.83512 -5.91729 -3.8215 -5.41784 -1.0219 -6.06939 -0.148287 -1.38747 -9.77811 -8.08211 -7.62543 -5.24526 -3.14316 -4.45678 -0.657497 -10.3563 8.13602 -0.339228 7.67367 8.75933 1.44911 6.80238 -3.2748 1.21816 8.00637 6.33449 -3.23245 6.63326 3.12917 -4.70431 -6.10804 -5.44926 -4.1739 0.0545374 6.32332 2.24716 -2.20034 8.62804 2.64952 12.8129 5.64181 0.630201 -5.28001 5.2007 -0.426628 8.28342 7.10464 -6.7214 2.08605 -9.11137 9.11085 -3.96803 1.06768 -0.382882 -7.81505 -0.351139 8.80985 -0.362677 -7.72979 -0.663373 7.16716 4.61256 6.0371 -10.699 14.2405 -8.94007 2.11386 -2.54759 9.98969 10.4769 4.5813 -0.367667 -1.17713 -5.00614 -3.75483 1.33954 -6.20496 -1.2165 12.9281 -3.24027 -6.94135 -13.6814 4.2123 6.83235 -1.58774 -1.98554 -0.884006 1.17556 -10.004 1.16107 -4.12526 -1.66705 5.60702 -3.28967 -3.50795 -4.38502 12.8062 -3.84563 -4.56235 -7.685 -5.15359 3.50753 -4.01628 -8.2595 6.52381 -10.3924 -3.04671 14.0239 2.90638 0.261947 3.36572 -2.85327 2.97027 -2.21395 -3.14482 -7.59436 -0.76494 8.60748 4.45196 13.2668 3.71424 -3.88244 -4.04208 0.683254 -0.733762 -1.68776 2.43042 5.57248 2.57624 -0.799931 -10.0383 -4.14647 -5.78882 -1.381 11.3839 -2.7316 5.44998 0.543092 -3.09372 0.951812 0.88848 -7.68982 -7.23616 -8.65016 -2.24494 -7.2698 5.92575 -1.059 14.0191 4.8192 -2.57919 6.28037 -2.13526 -7.89138 -2.97715 -0.666953 3.90546 4.25404 -0.843057 -11.2726 -4.36838 -4.55951 -5.81524 0.629507 4.20018 7.1565 -0.580493 -11.6988 2.05032 -1.411 -1.16991 -0.23891 1.66892 -2.5336 -3.78825 7.07684 -0.46382 -5.20082 -10.205 11.9605 -1.7562 -9.8245 -2.34647 3.84964 -14.5684 -0.148919 -3.51172 1.76824 2.43496 2.22483 7.27563 -3.25525 2.35722 5.60459 12.0042 -2.6697 3.66232 -7.82797 4.39809 -7.90274 -4.03911 7.15012 7.30948 -8.98139 -5.48391 -0.423221 1.87844 5.16293 -6.37105 -3.68953 3.87864 6.62877 -5.16421 11.5623 -6.55316 10.2656 -0.829441 -0.899226 -5.264 1.51013 13.5221 -3.1594 1.73687 -0.577927 -1.3046 -2.69977 0.473879 -3.19408 3.95319 -4.01332 -8.79127 5.69556 -1.84907 -5.61904 1.09217 13.0428 3.25912 1.75364 0.896277 -7.9037 5.17451 4.79982 -2.69777 5.80476 3.89107 -4.26216 7.1265 -8.1644 6.88807 -3.44899 -7.88948 -2.02735 11.8697 -4.74269 -9.76272 1.17278 2.43927 -0.477046 -0.857538 -4.54412 9.82979 -1.46548 2.5654 1.03366 0.257053 1.80619 -14.7331 -6.74287 -5.5796 -3.55205 0.671331 -3.63605 -0.396108 -8.1855 2.74794 0.869529 0.443866 -1.36805 1.24347 9.07884 0.698041 14.8191 -1.77878 -0.0831277 -5.08573 7.25278 -4.66641 -10.3775 3.69517 7.63042 -5.23863 0.613137 -16.5303 -4.70812 3.50779 -12.0278 3.07597 7.39952 -3.42702 -6.96683 -0.0136988 6.51934 13.3389 -14.3155 1.79064 12.3331 -7.47144 4.39482 -7.9903 1.34056 -2.09311 -3.92095 0.758168 -4.81395 0.860947 8.63281 3.61324 3.2652 -4.01276 3.96049 0.891554 -6.81945 -5.76138 -7.92729 3.18235 3.21677 3.54383 9.93359 -4.09009 -4.77861 5.82435 -2.63172 -9.74706 11.1641 -1.16214 -7.83139 1.59522 -2.18401 7.9505 -6.5458 -0.826399 5.39323 9.34655 -2.26603 -5.99683 1.3383 -4.89637 -3.57043 -1.52285 2.47608 0.741038 -9.10305 3.26656 6.87402 -6.38886 1.89124 -2.69255 6.07039 -6.17836 -11.5872 -10.4257 -4.68689 11.9753 7.65176 2.84527 3.69268 6.35994 -0.0853241 3.76415 7.13867 -2.11348 1.1363 3.94382 0.239296 1.23619 9.91624 -6.27592 4.44568 2.61906 16.8857 7.68453 0.969438 7.23334 -1.99382 -0.464233 -2.80863 -4.02115 -6.77024 -2.06167 5.07483 -1.35276 3.81068 -4.19077 11.0383 -1.08977 9.76294 6.25465 6.14648 8.81953 4.72635 0.270855 2.01404 8.03546 1.33108 1.68687 -2.01193 7.97366 -16.0364 -13.9394 1.61418 11.3541 2.03808 -3.14054 -0.150657 0.39425 -7.36841 3.92866 11.1123 6.90868 -7.5913 -5.9587 0.10594 -3.66157 -0.225239 3.54108 -4.54754 -11.5592 -0.191183 -0.150661 -1.70035 -5.8239 5.37901 1.66032 -0.244528 -6.06991 0.968313 -0.0388454 -11.7632 -9.07881 5.80752 -5.91716 8.32731 9.06084 4.98155 -11.3122 2.71093 7.00799 10.4042 -4.41153 -6.15898 1.26754 -0.614412 -0.638903 -1.3846 -1.00121 5.03894 -0.325038 6.52378 -9.29709 -2.04974 -3.53014 -5.74712 -5.53398 -13.9457 6.77674 -1.64286 6.09831 1.18466 8.33899 -4.53266 1.05856 -5.23105 -2.37256 4.11463 0.903692 2.24063 -1.48314 -0.671667 -8.92767 1.14203 4.39339 4.2462 -1.79588 -7.30447 1.55619 8.87471 -13.2262 12.4326 4.38935 -8.4177 3.49654 3.06579 -4.7673 -9.44813 2.06344 14.0837 1.70607 -3.61685 2.53461 -6.00585 -4.61629 2.76353 2.88764 7.18487 4.68235 -7.17976 2.11575 2.45188 4.28585 3.19751 -6.85076 1.22949 -1.50805 -9.46075 1.76279 -0.185632 -3.16743 -7.97113 -5.13466 -5.65622 1.71204 -5.70795 5.41987 -1.44502 4.44261 1.16326 1.91004 -3.35361 0.393007 -3.46776 -5.49815 -2.92648 4.13243 1.05924 4.14256 -6.96042 -1.15213 -0.932554 -1.22824 1.55678 0.996306 -1.06674 1.25267 4.00427 -4.17425 -5.83294 -5.74642 -3.93645 -3.82598 -5.04111 -4.10071 -7.62947 0.732365 1.93255 3.70275 3.32338 -1.11351 0.721034 -2.74789 -1.07792 -3.19581 5.37336 0.464026 -7.7943 -11.014 -2.10206 -0.845906 2.36621 -6.61783 -8.02341 -0.994648 0.610648 -2.99348 1.8945 -3.17286 5.57444 -6.82042 -4.18679 -0.455114 -1.71815 0.452304 -5.21395 1.33034 0.137953 -1.49875 -0.0518781 3.58423 -1.65248 -2.20574 -3.24387 2.64423 -6.82318 4.06932 2.17398 -3.34684 3.55937 -1.59881 3.54131 0.331756 5.0526 6.86867 -1.04725 0.350012 5.50965 12.9697]\n"
     ]
    }
   ],
   "source": [
    "!iree-run-module \\\n",
    "    --device=cuda \\\n",
    "    --module=mobilenet_cpu.vmfb \\\n",
    "    --function=torch-jit-export \\\n",
    "    --input=\"1x3x224x224xf32=0\""
   ]
  },
  {
   "cell_type": "code",
   "execution_count": null,
   "metadata": {},
   "outputs": [],
   "source": []
  }
 ],
 "metadata": {
  "kernelspec": {
   "display_name": "iree",
   "language": "python",
   "name": "python3"
  },
  "language_info": {
   "codemirror_mode": {
    "name": "ipython",
    "version": 3
   },
   "file_extension": ".py",
   "mimetype": "text/x-python",
   "name": "python",
   "nbconvert_exporter": "python",
   "pygments_lexer": "ipython3",
   "version": "3.11.9"
  }
 },
 "nbformat": 4,
 "nbformat_minor": 2
}
