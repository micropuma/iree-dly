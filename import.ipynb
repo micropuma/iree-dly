{
 "cells": [
  {
   "cell_type": "code",
   "execution_count": null,
   "metadata": {
    "vscode": {
     "languageId": "plaintext"
    }
   },
   "outputs": [],
   "source": [
    "import os\n",
    "import tensorflow as tf\n",
    "import tensorflow_hub as hub\n",
    "import tempfile\n",
    "from IPython.display import clear_output\n",
    "\n",
    "from iree.compiler import tf as tfc\n",
    "\n",
    "# Print version information for future notebook users to reference.\n",
    "print(\"TensorFlow version: \", tf.__version__)\n",
    "\n",
    "ARTIFACTS_DIR = os.path.join(tempfile.gettempdir(), \"iree\", \"colab_artifacts\")\n",
    "os.makedirs(ARTIFACTS_DIR, exist_ok=True)\n",
    "print(f\"Using artifacts directory '{ARTIFACTS_DIR}'\")"
   ]
  },
  {
   "cell_type": "code",
   "execution_count": null,
   "metadata": {
    "vscode": {
     "languageId": "plaintext"
    }
   },
   "outputs": [],
   "source": []
  }
 ],
 "metadata": {
  "language_info": {
   "name": "python"
  }
 },
 "nbformat": 4,
 "nbformat_minor": 2
}
